{
 "cells": [
  {
   "cell_type": "code",
   "execution_count": 179,
   "metadata": {},
   "outputs": [],
   "source": [
    "import numpy as np # linear algebra\n",
    "import pandas as pd # data processing, CSV file I/O (e.g. pd.read_csv)\n",
    "import matplotlib.pyplot as plt"
   ]
  },
  {
   "cell_type": "code",
   "execution_count": 180,
   "metadata": {},
   "outputs": [
    {
     "data": {
      "text/html": [
       "<div>\n",
       "<style scoped>\n",
       "    .dataframe tbody tr th:only-of-type {\n",
       "        vertical-align: middle;\n",
       "    }\n",
       "\n",
       "    .dataframe tbody tr th {\n",
       "        vertical-align: top;\n",
       "    }\n",
       "\n",
       "    .dataframe thead th {\n",
       "        text-align: right;\n",
       "    }\n",
       "</style>\n",
       "<table border=\"1\" class=\"dataframe\">\n",
       "  <thead>\n",
       "    <tr style=\"text-align: right;\">\n",
       "      <th></th>\n",
       "      <th>x</th>\n",
       "      <th>y</th>\n",
       "      <th>class</th>\n",
       "    </tr>\n",
       "  </thead>\n",
       "  <tbody>\n",
       "    <tr>\n",
       "      <th>0</th>\n",
       "      <td>0.407377</td>\n",
       "      <td>-0.624602</td>\n",
       "      <td>1</td>\n",
       "    </tr>\n",
       "    <tr>\n",
       "      <th>1</th>\n",
       "      <td>-0.269415</td>\n",
       "      <td>-0.873540</td>\n",
       "      <td>1</td>\n",
       "    </tr>\n",
       "    <tr>\n",
       "      <th>2</th>\n",
       "      <td>0.794112</td>\n",
       "      <td>0.333197</td>\n",
       "      <td>1</td>\n",
       "    </tr>\n",
       "    <tr>\n",
       "      <th>3</th>\n",
       "      <td>0.776774</td>\n",
       "      <td>-0.230666</td>\n",
       "      <td>1</td>\n",
       "    </tr>\n",
       "    <tr>\n",
       "      <th>4</th>\n",
       "      <td>0.109880</td>\n",
       "      <td>-0.257236</td>\n",
       "      <td>1</td>\n",
       "    </tr>\n",
       "  </tbody>\n",
       "</table>\n",
       "</div>"
      ],
      "text/plain": [
       "          x         y  class\n",
       "0  0.407377 -0.624602      1\n",
       "1 -0.269415 -0.873540      1\n",
       "2  0.794112  0.333197      1\n",
       "3  0.776774 -0.230666      1\n",
       "4  0.109880 -0.257236      1"
      ]
     },
     "execution_count": 180,
     "metadata": {},
     "output_type": "execute_result"
    }
   ],
   "source": [
    "data = pd.read_csv(\"./test small.csv\",encoding='latin-1')\n",
    "data.head()\n",
    "\n",
    "\n",
    "\n",
    "###X_TRAIN Y_N_TRAIN PRED "
   ]
  },
  {
   "cell_type": "code",
   "execution_count": 181,
   "metadata": {},
   "outputs": [
    {
     "data": {
      "text/plain": [
       "(28, 3)"
      ]
     },
     "execution_count": 181,
     "metadata": {},
     "output_type": "execute_result"
    }
   ],
   "source": [
    "data.shape"
   ]
  },
  {
   "cell_type": "code",
   "execution_count": 182,
   "metadata": {},
   "outputs": [
    {
     "data": {
      "text/html": [
       "<div>\n",
       "<style scoped>\n",
       "    .dataframe tbody tr th:only-of-type {\n",
       "        vertical-align: middle;\n",
       "    }\n",
       "\n",
       "    .dataframe tbody tr th {\n",
       "        vertical-align: top;\n",
       "    }\n",
       "\n",
       "    .dataframe thead th {\n",
       "        text-align: right;\n",
       "    }\n",
       "</style>\n",
       "<table border=\"1\" class=\"dataframe\">\n",
       "  <thead>\n",
       "    <tr style=\"text-align: right;\">\n",
       "      <th></th>\n",
       "      <th>x</th>\n",
       "      <th>y</th>\n",
       "      <th>class</th>\n",
       "    </tr>\n",
       "  </thead>\n",
       "  <tbody>\n",
       "    <tr>\n",
       "      <th>0</th>\n",
       "      <td>0.407377</td>\n",
       "      <td>-0.624602</td>\n",
       "      <td>1</td>\n",
       "    </tr>\n",
       "    <tr>\n",
       "      <th>1</th>\n",
       "      <td>-0.269415</td>\n",
       "      <td>-0.873540</td>\n",
       "      <td>1</td>\n",
       "    </tr>\n",
       "    <tr>\n",
       "      <th>2</th>\n",
       "      <td>0.794112</td>\n",
       "      <td>0.333197</td>\n",
       "      <td>1</td>\n",
       "    </tr>\n",
       "    <tr>\n",
       "      <th>3</th>\n",
       "      <td>0.776774</td>\n",
       "      <td>-0.230666</td>\n",
       "      <td>1</td>\n",
       "    </tr>\n",
       "    <tr>\n",
       "      <th>4</th>\n",
       "      <td>0.109880</td>\n",
       "      <td>-0.257236</td>\n",
       "      <td>1</td>\n",
       "    </tr>\n",
       "  </tbody>\n",
       "</table>\n",
       "</div>"
      ],
      "text/plain": [
       "          x         y  class\n",
       "0  0.407377 -0.624602      1\n",
       "1 -0.269415 -0.873540      1\n",
       "2  0.794112  0.333197      1\n",
       "3  0.776774 -0.230666      1\n",
       "4  0.109880 -0.257236      1"
      ]
     },
     "execution_count": 182,
     "metadata": {},
     "output_type": "execute_result"
    }
   ],
   "source": [
    "data.head()"
   ]
  },
  {
   "cell_type": "code",
   "execution_count": null,
   "metadata": {},
   "outputs": [],
   "source": []
  },
  {
   "cell_type": "code",
   "execution_count": 183,
   "metadata": {},
   "outputs": [
    {
     "name": "stdout",
     "output_type": "stream",
     "text": [
      "(28, 2)\n",
      "(28,)\n"
     ]
    },
    {
     "name": "stderr",
     "output_type": "stream",
     "text": [
      "D:\\python1\\lib\\site-packages\\ipykernel_launcher.py:1: FutureWarning: Method .as_matrix will be removed in a future version. Use .values instead.\n",
      "  \"\"\"Entry point for launching an IPython kernel.\n",
      "D:\\python1\\lib\\site-packages\\ipykernel_launcher.py:4: FutureWarning: Method .as_matrix will be removed in a future version. Use .values instead.\n",
      "  after removing the cwd from sys.path.\n"
     ]
    }
   ],
   "source": [
    "y = data['class'].as_matrix()\n",
    "##X_text = data['x','y'].as_matrix() \n",
    "del data['class']\n",
    "X_text = data.iloc[:,:].as_matrix() \n",
    "print(X_text.shape)\n",
    "print(y.shape)"
   ]
  },
  {
   "cell_type": "code",
   "execution_count": 184,
   "metadata": {},
   "outputs": [
    {
     "name": "stdout",
     "output_type": "stream",
     "text": [
      "(28, 2)\n",
      "(28,)\n"
     ]
    }
   ],
   "source": [
    "X_text\n",
    "X = X_text\n",
    "print(X.shape)\n",
    "print(y.shape)"
   ]
  },
  {
   "cell_type": "code",
   "execution_count": 185,
   "metadata": {},
   "outputs": [
    {
     "name": "stdout",
     "output_type": "stream",
     "text": [
      "(22, 2)\n",
      "(22,)\n",
      "(6, 2)\n",
      "[[-1.33485323  0.995062  ]\n",
      " [-1.38355462  1.67912891]\n",
      " [-0.36845016 -0.07287734]\n",
      " [ 1.55536849 -2.4361479 ]\n",
      " [ 0.40737694 -0.62460195]\n",
      " [-2.50384185 -0.16529338]]\n"
     ]
    }
   ],
   "source": [
    "from sklearn.model_selection import train_test_split\n",
    "import os \n",
    "X_train, X_test, y_train, y_test = train_test_split(X, y, test_size=0.2, random_state=42)\n",
    "print(X_train.shape)\n",
    "print(y_train.shape)\n",
    "print(X_test.shape)\n",
    "y_test\n",
    "y_train\n",
    "print(X_test)"
   ]
  },
  {
   "cell_type": "code",
   "execution_count": 186,
   "metadata": {},
   "outputs": [
    {
     "data": {
      "text/plain": [
       "(6, 2)"
      ]
     },
     "execution_count": 186,
     "metadata": {},
     "output_type": "execute_result"
    }
   ],
   "source": [
    "X_test.shape\n"
   ]
  },
  {
   "cell_type": "code",
   "execution_count": 187,
   "metadata": {},
   "outputs": [],
   "source": [
    "import pandas as pd\n",
    "\n",
    "df = pd.DataFrame(X_train)\n",
    "df.to_csv('X_train.csv')\n",
    "\n",
    "df = pd.DataFrame(X_test)\n",
    "df.to_csv('X_test.csv')\n",
    "\n",
    "df = pd.DataFrame(y_test)\n",
    "df.to_csv('y_test.csv')\n",
    "\n",
    "df = pd.DataFrame(y_train)\n",
    "df.to_csv('y_train.csv')"
   ]
  },
  {
   "cell_type": "code",
   "execution_count": null,
   "metadata": {},
   "outputs": [],
   "source": []
  },
  {
   "cell_type": "code",
   "execution_count": 200,
   "metadata": {},
   "outputs": [
    {
     "name": "stdout",
     "output_type": "stream",
     "text": [
      "[1 0 1 0 1 0]\n",
      "0.8333333333333334\n"
     ]
    }
   ],
   "source": [
    "##KNN\n",
    "from sklearn.neighbors import KNeighborsClassifier\n",
    "from sklearn.metrics import accuracy_score\n",
    "start = time.clock()\n",
    "knn_clf = KNeighborsClassifier(n_neighbors=5)\n",
    "knn_clf.fit(X_train,y_train)\n",
    "##pred = knn_clf.pred(X_test)\n",
    "\n",
    "iris_y_predict = knn_clf.predict(X_test)\n",
    "df = pd.DataFrame(iris_y_predict)\n",
    "df.to_csv('knn_y_pred.csv')\n",
    "\n",
    "print(iris_y_predict)\n",
    "accuracy_score(y_test,iris_y_predict)\n",
    "end = time.clock()\n",
    "# k =1 accuracy = 1\n",
    "#k = 3 acc = \n",
    "print(accuracy_score(y_test,iris_y_predict))"
   ]
  },
  {
   "cell_type": "code",
   "execution_count": 199,
   "metadata": {},
   "outputs": [
    {
     "name": "stdout",
     "output_type": "stream",
     "text": [
      "[0 0 0 0 0 0]\n",
      "0.6666666666666666\n"
     ]
    }
   ],
   "source": [
    "\n",
    "from sklearn.linear_model import LogisticRegression\n",
    "from sklearn.metrics import accuracy_score\n",
    "start = time.clock()\n",
    "clf = LogisticRegression()\n",
    "clf.fit(X_train,y_train)\n",
    "predLG = clf.predict(X_test)\n",
    "print(predLG)\n",
    "df = pd.DataFrame(predLG)\n",
    "df.to_csv('LG_y_pred.csv')\n",
    "accuracy_score(y_test,predLG)\n",
    "end = time.clock()\n",
    "# k =1 accuracy = 1\n",
    "#k = 3 acc = \n",
    "print(accuracy_score(y_test,predLG))"
   ]
  },
  {
   "cell_type": "code",
   "execution_count": 202,
   "metadata": {},
   "outputs": [
    {
     "name": "stdout",
     "output_type": "stream",
     "text": [
      "[0 0 1 0 1 0]\n",
      "1.0\n"
     ]
    }
   ],
   "source": [
    "from sklearn.svm import SVC\n",
    "start = time.clock()\n",
    "clf = SVC(gamma=0.9,C=1,kernel='rbf')\n",
    "clf.fit(X_train,y_train)\n",
    "pred = clf.predict(X_test)\n",
    "print(pred)\n",
    "end = time.clock()\n",
    "# k =1 accuracy = 1\n",
    "#k = 3 acc = \n",
    "print(accuracy_score(y_test,pred))"
   ]
  },
  {
   "cell_type": "code",
   "execution_count": 191,
   "metadata": {},
   "outputs": [
    {
     "name": "stdout",
     "output_type": "stream",
     "text": [
      "(28, 2)\n",
      "(28,)\n"
     ]
    }
   ],
   "source": [
    "X = X_text\n",
    "print(X.shape)\n",
    "print(y.shape)"
   ]
  },
  {
   "cell_type": "code",
   "execution_count": null,
   "metadata": {},
   "outputs": [],
   "source": []
  },
  {
   "cell_type": "code",
   "execution_count": 192,
   "metadata": {},
   "outputs": [],
   "source": [
    "#Applying various algorithms\n"
   ]
  },
  {
   "cell_type": "code",
   "execution_count": null,
   "metadata": {},
   "outputs": [],
   "source": []
  },
  {
   "cell_type": "code",
   "execution_count": 193,
   "metadata": {},
   "outputs": [],
   "source": [
    "df = pd.DataFrame(y_test)\n",
    "df.to_csv('y_test.csv')\n"
   ]
  },
  {
   "cell_type": "code",
   "execution_count": null,
   "metadata": {},
   "outputs": [],
   "source": []
  },
  {
   "cell_type": "code",
   "execution_count": null,
   "metadata": {},
   "outputs": [],
   "source": []
  },
  {
   "cell_type": "code",
   "execution_count": 194,
   "metadata": {},
   "outputs": [
    {
     "name": "stdout",
     "output_type": "stream",
     "text": [
      "(6, 2)\n",
      "[[1 0]\n",
      " [1 0]\n",
      " [0 1]\n",
      " [1 0]\n",
      " [0 1]\n",
      " [1 0]]\n"
     ]
    }
   ],
   "source": [
    "n_classes = 2\n",
    "y_n_test = np.zeros((y_test.size,n_classes)).astype(int)\n",
    "print(y_n_test.shape)\n",
    "k = 0\n",
    "\n",
    "for i in y_test:\n",
    "    y_n_test[k,i] = 1\n",
    "    k+=1\n",
    "print(y_n_test)\n",
    "df1 = pd.DataFrame(y_test)\n",
    "df1.to_csv('y_test.txt')"
   ]
  },
  {
   "cell_type": "markdown",
   "metadata": {},
   "source": []
  },
  {
   "cell_type": "code",
   "execution_count": 195,
   "metadata": {
    "scrolled": true
   },
   "outputs": [
    {
     "name": "stdout",
     "output_type": "stream",
     "text": [
      "(22, 2)\n",
      "[[1 0]\n",
      " [1 0]\n",
      " [1 0]\n",
      " [1 0]\n",
      " [1 0]\n",
      " [0 1]\n",
      " [0 1]\n",
      " [0 1]\n",
      " [0 1]\n",
      " [1 0]\n",
      " [1 0]\n",
      " [0 1]\n",
      " [1 0]\n",
      " [1 0]\n",
      " [1 0]\n",
      " [1 0]\n",
      " [1 0]\n",
      " [0 1]\n",
      " [1 0]\n",
      " [1 0]\n",
      " [1 0]\n",
      " [0 1]]\n"
     ]
    }
   ],
   "source": [
    "n_classes = 2\n",
    "y_n_train = np.zeros((y_train.size,n_classes)).astype(int)\n",
    "print(y_n_train.shape)\n",
    "k = 0\n",
    "\n",
    "for i in y_train:\n",
    "    y_n_train[k,i] = 1\n",
    "    k+=1\n",
    "print(y_n_train)\n",
    "\n",
    "\n",
    "df1 = pd.DataFrame(y_train)\n",
    "df1.to_csv('y_train.txt')"
   ]
  },
  {
   "cell_type": "markdown",
   "metadata": {},
   "source": [
    "# rnn   \n"
   ]
  },
  {
   "cell_type": "code",
   "execution_count": 196,
   "metadata": {
    "scrolled": true
   },
   "outputs": [
    {
     "name": "stdout",
     "output_type": "stream",
     "text": [
      "Epoch 0 completed out of 10 loss: 22.04366871714592\n",
      "Epoch 1 completed out of 10 loss: 18.769520431756973\n",
      "Epoch 2 completed out of 10 loss: 16.550881534814835\n",
      "Epoch 3 completed out of 10 loss: 15.029272377490997\n",
      "Epoch 4 completed out of 10 loss: 14.026193708181381\n",
      "Epoch 5 completed out of 10 loss: 13.380737215280533\n",
      "Epoch 6 completed out of 10 loss: 12.96415200829506\n",
      "Epoch 7 completed out of 10 loss: 12.684641540050507\n",
      "Epoch 8 completed out of 10 loss: 12.483381807804108\n",
      "Epoch 9 completed out of 10 loss: 12.325432524085045\n",
      "Accuracy: 0.6818182\n"
     ]
    },
    {
     "data": {
      "image/png": "[encoded data removed]",
      "text/plain": [
       "<Figure size 432x288 with 1 Axes>"
      ]
     },
     "metadata": {},
     "output_type": "display_data"
    },
    {
     "name": "stdout",
     "output_type": "stream",
     "text": [
      "[[1.481138   0.9721374 ]\n",
      " [1.6021352  0.86974293]\n",
      " [1.4940674  1.1346282 ]\n",
      " [2.0774386  1.1121237 ]\n",
      " [1.6076559  1.1905012 ]\n",
      " [1.3942379  0.8262106 ]]\n",
      "!\n",
      "[0 0 0 0 0 0]\n",
      "Accuracy: 0.6666667\n",
      "Running time: 0.6670227999993585 Seconds\n"
     ]
    }
   ],
   "source": [
    "import tensorflow as tf\n",
    "import pandas as pd\n",
    "from tensorflow.contrib import rnn     ##利用一个隐藏层 \n",
    "import time \n",
    "tf.reset_default_graph()  ##重置graph\n",
    "start = time.clock()\n",
    "epochs = 10           ##训练25次\n",
    "n_classes = 2          ##？\n",
    "batch_size = 1        ##一次训练的 数据量 \n",
    "                ## :每批样本数，rnn也可以使用随机梯度下降进行训练，一批批的灌数据进去，而不是每一次把整个数据集都灌进去。\n",
    "chunk_size = 2        ##数据分块读入 8536 = 97* 88\n",
    "n_chunks = 1            \n",
    "rnn_size = 78       \n",
    "x = tf.placeholder('float',[None,n_chunks,chunk_size])                  ## 训练数据 分块 \n",
    "y = tf.placeholder('float')\n",
    "#from tensorflow.python.ops import rnn, rnn_cell\n",
    "def recurrent_neural_network(x):                          ##建模  \n",
    "    layer = {'weights':tf.Variable(tf.random_normal([rnn_size,n_classes])),\n",
    "             'biases':tf.Variable(tf.random_normal([n_classes]))}                ##      随机正态分布 tf.random_normal\n",
    "\n",
    "    x = tf.unstack(x, n_chunks, 1)                                              \n",
    "    #print x.shape\n",
    "    lstm_cell = rnn.BasicLSTMCell(rnn_size, forget_bias=1.0)      ##长短时记忆模型   gorget_bias = 1 全部记住不遗忘 \n",
    " \n",
    "    # Get lstm cell's output\n",
    "    outputs, states = rnn.static_rnn(lstm_cell, x, dtype=tf.float32,)\n",
    "\n",
    "    output = tf.matmul(outputs[-1],layer['weights']) + layer['biases']\n",
    "\n",
    "    return output\n",
    "\n",
    "def train_neural_network(x):\n",
    "    prediction = recurrent_neural_network(x)\n",
    "    cost = tf.reduce_mean( tf.nn.softmax_cross_entropy_with_logits(logits=prediction,labels=y) )   ####计算均值  loss   \n",
    "    optimizer = tf.train.AdamOptimizer().minimize(cost)      ##梯度下降 \n",
    "    preds=[4001,2]\n",
    "    with tf.Session() as sess:\n",
    "        sess.run(tf.global_variables_initializer())     ##Session 是 Tensorflow 为了控制,和输出文件的执行的语句.\n",
    "        loss_history=[]\n",
    "        \n",
    "        for epoch in range(epochs):\n",
    "            epoch_loss = 0\n",
    "            i = 0\n",
    "            while i<len(X_train):\n",
    "                start = i\n",
    "                flag = 0\n",
    "                end = i + batch_size  ##\n",
    "                #print(start,end)\n",
    "                epoch_x, epoch_y = X_train[start:end],y_n_train[start:end]\n",
    "                epoch_x = epoch_x.reshape((batch_size,n_chunks,chunk_size))\n",
    "                #print epoch_x.shape\n",
    "                ###train_x  \n",
    "                _, c, pred = sess.run([optimizer, cost,prediction], feed_dict={x: epoch_x, y: epoch_y})\n",
    "                df1 = pd.DataFrame(pred)\n",
    "                if epoch == epochs-1:\n",
    "                    flag = 1 \n",
    "                   ## print(pred)\n",
    "                    preds = np.append(preds,pred)\n",
    "                    df = pd.DataFrame(pred)\n",
    "                    ##df1 = pd.concat(df1,df)\n",
    "                    ##df1.to_csv('pred1.csv')\n",
    "                    \n",
    "                    #preds.append(pred)\n",
    "                    dfpred = pd.DataFrame(preds)\n",
    "                    dfpred.to_csv('pred1111.csv')\n",
    "                    \n",
    "                loss_history.append(c)\n",
    "                epoch_loss += c\n",
    "                i += batch_size\n",
    "\n",
    "            print('Epoch', epoch, 'completed out of',epochs,'loss:',epoch_loss)\n",
    "\n",
    "        correct = tf.equal(tf.argmax(prediction, 1), tf.argmax(y, 1))\n",
    "\n",
    "        accuracy = tf.reduce_mean(tf.cast(correct, 'float'))\n",
    "        print('Accuracy:',accuracy.eval({x:X_train.reshape((-1, n_chunks, chunk_size)), y:y_n_train}))\n",
    "        plt.plot(loss_history)\n",
    "        plt.show()\n",
    "        \n",
    "        pred = sess.run(prediction,feed_dict={x:X_test.reshape((-1, n_chunks, chunk_size))})\n",
    "        print (pred)\n",
    "        corr = tf.argmax(pred,1)\n",
    "        corr = sess.run(corr)\n",
    "        print(\"!\")\n",
    "        print(corr)\n",
    "        ##k = [i+1 for i in range(len(corr))]\n",
    "        yg = pd.DataFrame({'Label':pd.Series(corr)})\n",
    "        yg.to_csv('ans111.csv',index=False)\n",
    "        print('Accuracy:',accuracy.eval({x:X_test.reshape((-1, n_chunks, chunk_size)), y:y_n_test}))\n",
    "\n",
    "train_neural_network(x)\n",
    "end = time.clock()\n",
    "print('Running time: %s Seconds'%(end-start))\n",
    "\n",
    "#Applying various algorithms\n",
    "##df = pd.DataFrame(pred)\n",
    "##df.to_csv('pred1.csv')\n"
   ]
  },
  {
   "cell_type": "code",
   "execution_count": null,
   "metadata": {},
   "outputs": [],
   "source": []
  },
  {
   "cell_type": "code",
   "execution_count": 197,
   "metadata": {},
   "outputs": [],
   "source": [
    "#Applying various algorithms\n",
    "import pandas as pd\n",
    "\n",
    "df = pd.DataFrame(y_test)\n",
    "df.to_csv('y_test.csv')"
   ]
  },
  {
   "cell_type": "code",
   "execution_count": null,
   "metadata": {},
   "outputs": [],
   "source": []
  }
 ],
 "metadata": {
  "kernelspec": {
   "display_name": "Python 3",
   "language": "python",
   "name": "python3"
  },
  "language_info": {
   "codemirror_mode": {
    "name": "ipython",
    "version": 3
   },
   "file_extension": ".py",
   "mimetype": "text/x-python",
   "name": "python",
   "nbconvert_exporter": "python",
   "pygments_lexer": "ipython3",
   "version": "3.6.5"
  }
 },
 "nbformat": 4,
 "nbformat_minor": 2
}
